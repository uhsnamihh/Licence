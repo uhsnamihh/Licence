{
  "metadata": {
    "kernelspec": {
      "language": "python",
      "display_name": "Python 3",
      "name": "python3"
    },
    "language_info": {
      "name": "python",
      "version": "3.7.6",
      "mimetype": "text/x-python",
      "codemirror_mode": {
        "name": "ipython",
        "version": 3
      },
      "pygments_lexer": "ipython3",
      "nbconvert_exporter": "python",
      "file_extension": ".py"
    },
    "kaggle": {
      "accelerator": "none",
      "dataSources": [
        {
          "sourceId": 1414839,
          "sourceType": "datasetVersion",
          "datasetId": 827967
        }
      ],
      "dockerImageVersionId": 29994,
      "isInternetEnabled": false,
      "language": "python",
      "sourceType": "notebook",
      "isGpuEnabled": false
    },
    "colab": {
      "provenance": []
    }
  },
  "nbformat_minor": 0,
  "nbformat": 4,
  "cells": [
    {
      "cell_type": "code",
      "source": [
        "import matplotlib.pyplot as plt\n",
        "import numpy as np\n",
        "import cv2\n",
        "import tensorflow as tf\n",
        "from sklearn.metrics import f1_score\n",
        "from tensorflow.keras import optimizers\n",
        "from tensorflow.keras.models import Sequential\n",
        "from tensorflow.keras.preprocessing.image import ImageDataGenerator\n",
        "from tensorflow.keras.layers import Dense, Flatten, MaxPooling2D, Dropout, Conv2D"
      ],
      "metadata": {
        "id": "ycRjhI25UC-P",
        "execution": {
          "iopub.status.busy": "2024-01-09T15:21:36.227893Z",
          "iopub.execute_input": "2024-01-09T15:21:36.228593Z",
          "iopub.status.idle": "2024-01-09T15:21:36.238419Z",
          "shell.execute_reply.started": "2024-01-09T15:21:36.228536Z",
          "shell.execute_reply": "2024-01-09T15:21:36.237048Z"
        },
        "trusted": true
      },
      "execution_count": null,
      "outputs": []
    },
    {
      "cell_type": "markdown",
      "source": [
        "### Model for characters"
      ],
      "metadata": {
        "id": "QXhqHfXLUC-9"
      }
    },
    {
      "cell_type": "code",
      "source": [
        "import tensorflow.keras.backend as K\n",
        "train_datagen = ImageDataGenerator(rescale=1./255, width_shift_range=0.1, height_shift_range=0.1)\n",
        "path = '../input/ai-indian-license-plate-recognition-data/data/data'\n",
        "train_generator = train_datagen.flow_from_directory(\n",
        "        path+'/train',  # this is the target directory\n",
        "        target_size=(28,28),  # all images will be resized to 28x28\n",
        "        batch_size=1,\n",
        "        class_mode='sparse')\n",
        "\n",
        "validation_generator = train_datagen.flow_from_directory(\n",
        "        path+'/val',  # this is the target directory\n",
        "        target_size=(28,28),  # all images will be resized to 28x28 batch_size=1,\n",
        "        class_mode='sparse')"
      ],
      "metadata": {
        "id": "BhrsmfX9UC_p",
        "outputId": "55577343-eb1d-4980-99c0-59ecf8eefd99",
        "execution": {
          "iopub.status.busy": "2024-01-09T15:21:37.776587Z",
          "iopub.execute_input": "2024-01-09T15:21:37.776975Z",
          "iopub.status.idle": "2024-01-09T15:21:38.034136Z",
          "shell.execute_reply.started": "2024-01-09T15:21:37.776937Z",
          "shell.execute_reply": "2024-01-09T15:21:38.033024Z"
        },
        "trusted": true
      },
      "execution_count": null,
      "outputs": [
        {
          "name": "stdout",
          "text": "Found 864 images belonging to 36 classes.\nFound 216 images belonging to 36 classes.\n",
          "output_type": "stream"
        }
      ]
    },
    {
      "cell_type": "code",
      "source": [
        "# Metrics for checking the model performance while training\n",
        "def f1score(y, y_pred):\n",
        "  return f1_score(y, tf.math.argmax(y_pred, axis=1), average='micro')\n",
        "\n",
        "def custom_f1score(y, y_pred):\n",
        "  return tf.py_function(f1score, (y, y_pred), tf.double)"
      ],
      "metadata": {
        "id": "WXdiO1Kq9kPI",
        "execution": {
          "iopub.status.busy": "2024-01-09T15:21:38.035996Z",
          "iopub.execute_input": "2024-01-09T15:21:38.036468Z",
          "iopub.status.idle": "2024-01-09T15:21:38.044965Z",
          "shell.execute_reply.started": "2024-01-09T15:21:38.036418Z",
          "shell.execute_reply": "2024-01-09T15:21:38.043706Z"
        },
        "trusted": true
      },
      "execution_count": null,
      "outputs": []
    },
    {
      "cell_type": "code",
      "source": [
        "K.clear_session()\n",
        "model = Sequential()\n",
        "model.add(Conv2D(16, (22,22), input_shape=(28, 28, 3), activation='relu', padding='same'))\n",
        "model.add(Conv2D(32, (16,16), input_shape=(28, 28, 3), activation='relu', padding='same'))\n",
        "model.add(Conv2D(64, (8,8), input_shape=(28, 28, 3), activation='relu', padding='same'))\n",
        "model.add(Conv2D(64, (4,4), input_shape=(28, 28, 3), activation='relu', padding='same'))\n",
        "model.add(MaxPooling2D(pool_size=(4, 4)))\n",
        "model.add(Dropout(0.4))\n",
        "model.add(Flatten())\n",
        "model.add(Dense(128, activation='relu'))\n",
        "model.add(Dense(36, activation='softmax'))\n",
        "\n",
        "model.compile(loss='sparse_categorical_crossentropy', optimizer=optimizers.Adam(lr=0.0001), metrics=[custom_f1score])"
      ],
      "metadata": {
        "id": "8IjCdBYrp4EK",
        "execution": {
          "iopub.status.busy": "2024-01-09T15:21:38.046678Z",
          "iopub.execute_input": "2024-01-09T15:21:38.047159Z",
          "iopub.status.idle": "2024-01-09T15:21:38.164585Z",
          "shell.execute_reply.started": "2024-01-09T15:21:38.047117Z",
          "shell.execute_reply": "2024-01-09T15:21:38.163173Z"
        },
        "trusted": true
      },
      "execution_count": null,
      "outputs": []
    },
    {
      "cell_type": "code",
      "source": [
        "model.summary()"
      ],
      "metadata": {
        "execution": {
          "iopub.status.busy": "2024-01-09T15:21:38.166274Z",
          "iopub.execute_input": "2024-01-09T15:21:38.166744Z",
          "iopub.status.idle": "2024-01-09T15:21:38.175649Z",
          "shell.execute_reply.started": "2024-01-09T15:21:38.166694Z",
          "shell.execute_reply": "2024-01-09T15:21:38.174332Z"
        },
        "trusted": true,
        "id": "GCWXEYYGAJGu",
        "outputId": "60e2ffdd-07b0-42fb-a09b-967fba994fef"
      },
      "execution_count": null,
      "outputs": [
        {
          "name": "stdout",
          "text": "Model: \"sequential\"\n_________________________________________________________________\nLayer (type)                 Output Shape              Param #   \n=================================================================\nconv2d (Conv2D)              (None, 28, 28, 16)        23248     \n_________________________________________________________________\nconv2d_1 (Conv2D)            (None, 28, 28, 32)        131104    \n_________________________________________________________________\nconv2d_2 (Conv2D)            (None, 28, 28, 64)        131136    \n_________________________________________________________________\nconv2d_3 (Conv2D)            (None, 28, 28, 64)        65600     \n_________________________________________________________________\nmax_pooling2d (MaxPooling2D) (None, 7, 7, 64)          0         \n_________________________________________________________________\ndropout (Dropout)            (None, 7, 7, 64)          0         \n_________________________________________________________________\nflatten (Flatten)            (None, 3136)              0         \n_________________________________________________________________\ndense (Dense)                (None, 128)               401536    \n_________________________________________________________________\ndense_1 (Dense)              (None, 36)                4644      \n=================================================================\nTotal params: 757,268\nTrainable params: 757,268\nNon-trainable params: 0\n_________________________________________________________________\n",
          "output_type": "stream"
        }
      ]
    },
    {
      "cell_type": "code",
      "source": [
        "class stop_training_callback(tf.keras.callbacks.Callback):\n",
        "  def on_epoch_end(self, epoch, logs={}):\n",
        "    if(logs.get('val_custom_f1score') > 0.99):\n",
        "      self.model.stop_training = True"
      ],
      "metadata": {
        "id": "w5aaqsHABUwx",
        "execution": {
          "iopub.status.busy": "2024-01-09T15:21:38.177884Z",
          "iopub.execute_input": "2024-01-09T15:21:38.178402Z",
          "iopub.status.idle": "2024-01-09T15:21:38.192132Z",
          "shell.execute_reply.started": "2024-01-09T15:21:38.178352Z",
          "shell.execute_reply": "2024-01-09T15:21:38.190679Z"
        },
        "trusted": true
      },
      "execution_count": null,
      "outputs": []
    },
    {
      "cell_type": "code",
      "source": [
        "batch_size = 1\n",
        "callbacks = [stop_training_callback()]\n",
        "model.fit_generator(\n",
        "      train_generator,\n",
        "      steps_per_epoch = train_generator.samples // batch_size,\n",
        "      validation_data = validation_generator,\n",
        "      epochs = 80, verbose=1, callbacks=callbacks)"
      ],
      "metadata": {
        "id": "KPAtDd_Jp4BP",
        "outputId": "77203b1e-c29d-408a-8ae4-8707569449a8",
        "execution": {
          "iopub.status.busy": "2024-01-09T15:21:38.194166Z",
          "iopub.execute_input": "2024-01-09T15:21:38.194599Z",
          "iopub.status.idle": "2024-01-09T15:43:23.311431Z",
          "shell.execute_reply.started": "2024-01-09T15:21:38.194564Z",
          "shell.execute_reply": "2024-01-09T15:43:23.310408Z"
        },
        "trusted": true
      },
      "execution_count": null,
      "outputs": [
        {
          "name": "stdout",
          "text": "Epoch 1/80\n864/864 [==============================] - 42s 49ms/step - loss: 3.1271 - custom_f1score: 0.1505 - val_loss: 1.9037 - val_custom_f1score: 0.4226\nEpoch 2/80\n864/864 [==============================] - 42s 48ms/step - loss: 1.3742 - custom_f1score: 0.5579 - val_loss: 0.7142 - val_custom_f1score: 0.8110\nEpoch 3/80\n864/864 [==============================] - 42s 48ms/step - loss: 0.6583 - custom_f1score: 0.7836 - val_loss: 0.4282 - val_custom_f1score: 0.8646\nEpoch 4/80\n864/864 [==============================] - 41s 48ms/step - loss: 0.4621 - custom_f1score: 0.8715 - val_loss: 0.4501 - val_custom_f1score: 0.8423\nEpoch 5/80\n864/864 [==============================] - 42s 48ms/step - loss: 0.3329 - custom_f1score: 0.9028 - val_loss: 0.2704 - val_custom_f1score: 0.9122\nEpoch 6/80\n864/864 [==============================] - 42s 49ms/step - loss: 0.2322 - custom_f1score: 0.9363 - val_loss: 0.1834 - val_custom_f1score: 0.9509\nEpoch 7/80\n864/864 [==============================] - 41s 48ms/step - loss: 0.2232 - custom_f1score: 0.9294 - val_loss: 0.3000 - val_custom_f1score: 0.9167\nEpoch 8/80\n864/864 [==============================] - 42s 48ms/step - loss: 0.1852 - custom_f1score: 0.9468 - val_loss: 0.1756 - val_custom_f1score: 0.9554\nEpoch 9/80\n864/864 [==============================] - 42s 49ms/step - loss: 0.1759 - custom_f1score: 0.9468 - val_loss: 0.1839 - val_custom_f1score: 0.9226\nEpoch 10/80\n864/864 [==============================] - 42s 49ms/step - loss: 0.1234 - custom_f1score: 0.9618 - val_loss: 0.1024 - val_custom_f1score: 0.9583\nEpoch 11/80\n864/864 [==============================] - 42s 49ms/step - loss: 0.1493 - custom_f1score: 0.9653 - val_loss: 0.0684 - val_custom_f1score: 0.9643\nEpoch 12/80\n864/864 [==============================] - 43s 50ms/step - loss: 0.1151 - custom_f1score: 0.9699 - val_loss: 0.1117 - val_custom_f1score: 0.9435\nEpoch 13/80\n864/864 [==============================] - 41s 48ms/step - loss: 0.1002 - custom_f1score: 0.9699 - val_loss: 0.0767 - val_custom_f1score: 0.9613\nEpoch 14/80\n864/864 [==============================] - 42s 48ms/step - loss: 0.0805 - custom_f1score: 0.9711 - val_loss: 0.1768 - val_custom_f1score: 0.9479\nEpoch 15/80\n864/864 [==============================] - 42s 49ms/step - loss: 0.1527 - custom_f1score: 0.9583 - val_loss: 0.1086 - val_custom_f1score: 0.9554\nEpoch 16/80\n864/864 [==============================] - 42s 48ms/step - loss: 0.1548 - custom_f1score: 0.9479 - val_loss: 0.1332 - val_custom_f1score: 0.9315\nEpoch 17/80\n864/864 [==============================] - 42s 49ms/step - loss: 0.1372 - custom_f1score: 0.9572 - val_loss: 0.0589 - val_custom_f1score: 0.9628\nEpoch 18/80\n864/864 [==============================] - 42s 48ms/step - loss: 0.0875 - custom_f1score: 0.9722 - val_loss: 0.0583 - val_custom_f1score: 0.9732\nEpoch 19/80\n864/864 [==============================] - 43s 50ms/step - loss: 0.0522 - custom_f1score: 0.9792 - val_loss: 0.0820 - val_custom_f1score: 0.9539\nEpoch 20/80\n864/864 [==============================] - 42s 49ms/step - loss: 0.0861 - custom_f1score: 0.9688 - val_loss: 0.0840 - val_custom_f1score: 0.9673\nEpoch 21/80\n864/864 [==============================] - 42s 49ms/step - loss: 0.0895 - custom_f1score: 0.9676 - val_loss: 0.0852 - val_custom_f1score: 0.9628\nEpoch 22/80\n864/864 [==============================] - 43s 50ms/step - loss: 0.0547 - custom_f1score: 0.9826 - val_loss: 0.0562 - val_custom_f1score: 0.9821\nEpoch 23/80\n864/864 [==============================] - 42s 48ms/step - loss: 0.1004 - custom_f1score: 0.9676 - val_loss: 0.1016 - val_custom_f1score: 0.9524\nEpoch 24/80\n864/864 [==============================] - 41s 48ms/step - loss: 0.0710 - custom_f1score: 0.9769 - val_loss: 0.1236 - val_custom_f1score: 0.9568\nEpoch 25/80\n864/864 [==============================] - 42s 49ms/step - loss: 0.0982 - custom_f1score: 0.9676 - val_loss: 0.0424 - val_custom_f1score: 0.9807\nEpoch 26/80\n864/864 [==============================] - 42s 49ms/step - loss: 0.0931 - custom_f1score: 0.9699 - val_loss: 0.0414 - val_custom_f1score: 0.9762\nEpoch 27/80\n864/864 [==============================] - 42s 49ms/step - loss: 0.0488 - custom_f1score: 0.9826 - val_loss: 0.0390 - val_custom_f1score: 0.9747\nEpoch 28/80\n864/864 [==============================] - 42s 48ms/step - loss: 0.0938 - custom_f1score: 0.9641 - val_loss: 0.0658 - val_custom_f1score: 0.9777\nEpoch 29/80\n864/864 [==============================] - 42s 48ms/step - loss: 0.0410 - custom_f1score: 0.9803 - val_loss: 0.0381 - val_custom_f1score: 0.9866\nEpoch 30/80\n864/864 [==============================] - 42s 49ms/step - loss: 0.0355 - custom_f1score: 0.9861 - val_loss: 0.0695 - val_custom_f1score: 0.9717\nEpoch 31/80\n864/864 [==============================] - 42s 49ms/step - loss: 0.1255 - custom_f1score: 0.9676 - val_loss: 0.0246 - val_custom_f1score: 0.9911\n",
          "output_type": "stream"
        },
        {
          "execution_count": 37,
          "output_type": "execute_result",
          "data": {
            "text/plain": "<tensorflow.python.keras.callbacks.History at 0x7b0aac631450>"
          },
          "metadata": {}
        }
      ]
    },
    {
      "cell_type": "code",
      "source": [
        "tf.keras.models.save_model(model,'mymodel.hdf5')"
      ],
      "metadata": {
        "execution": {
          "iopub.status.busy": "2024-01-09T15:56:14.415747Z",
          "iopub.execute_input": "2024-01-09T15:56:14.416536Z",
          "iopub.status.idle": "2024-01-09T15:56:14.483043Z",
          "shell.execute_reply.started": "2024-01-09T15:56:14.416464Z",
          "shell.execute_reply": "2024-01-09T15:56:14.481784Z"
        },
        "trusted": true,
        "id": "3_P9v9KwAJGw"
      },
      "execution_count": null,
      "outputs": []
    }
  ]
}